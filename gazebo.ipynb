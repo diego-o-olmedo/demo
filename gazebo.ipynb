{
  "nbformat": 4,
  "nbformat_minor": 0,
  "metadata": {
    "colab": {
      "name": "gazebo.ipynb",
      "provenance": [],
      "collapsed_sections": [],
      "include_colab_link": true
    },
    "kernelspec": {
      "name": "python3",
      "display_name": "Python 3"
    }
  },
  "cells": [
    {
      "cell_type": "markdown",
      "metadata": {
        "id": "view-in-github",
        "colab_type": "text"
      },
      "source": [
        "<a href=\"https://colab.research.google.com/github/diego-o-olmedo/demo/blob/master/gazebo.ipynb\" target=\"_parent\"><img src=\"https://colab.research.google.com/assets/colab-badge.svg\" alt=\"Open In Colab\"/></a>"
      ]
    },
    {
      "cell_type": "code",
      "metadata": {
        "id": "Uy5tuXpHB3LU",
        "colab_type": "code",
        "colab": {}
      },
      "source": [
        "#@title Install gazebo\n",
        "!curl -sSL http://get.gazebosim.org | sh"
      ],
      "execution_count": 0,
      "outputs": []
    },
    {
      "cell_type": "code",
      "metadata": {
        "id": "jx8xVfs4HCN7",
        "colab_type": "code",
        "colab": {}
      },
      "source": [
        "#@title Install Killol (killall) \n",
        "!apt install psmisc"
      ],
      "execution_count": 0,
      "outputs": []
    },
    {
      "cell_type": "code",
      "metadata": {
        "id": "qQBou-1KC6KC",
        "colab_type": "code",
        "colab": {}
      },
      "source": [
        "#@title Rendering Dependancies for run gazebo\n",
        "#remove \" > /dev/null 2>&1\" to see what is going on under the hood\n",
        "!pip install pyvirtualdisplay \n",
        "!apt install xvfb python-opengl ffmpeg \n",
        "#!apt install mesa-utils libosmesa6-dev xorg x11-xserver-utils "
      ],
      "execution_count": 0,
      "outputs": []
    },
    {
      "cell_type": "code",
      "metadata": {
        "id": "CoSO9TDBCil8",
        "colab_type": "code",
        "colab": {}
      },
      "source": [
        "#@title Dependencies for gazebo web\n",
        "!sudo apt install libjansson-dev libboost-dev imagemagick libtinyxml-dev mercurial cmake build-essential\n",
        "!npm install npm -g"
      ],
      "execution_count": 0,
      "outputs": []
    },
    {
      "cell_type": "code",
      "metadata": {
        "id": "KHVrPCNDELL7",
        "colab_type": "code",
        "colab": {}
      },
      "source": [
        "#@title Download gazebo web and build gazebo modules \n",
        "!hg clone https://bitbucket.org/osrf/gzweb\n",
        "!cd gzweb && hg up gzweb_1.4.0\n",
        "!source /usr/share/gazebo-9/setup.sh && cd gzweb && npm run deploy --- -m"
      ],
      "execution_count": 0,
      "outputs": []
    },
    {
      "cell_type": "code",
      "metadata": {
        "id": "5Aujt7QGYpix",
        "colab_type": "code",
        "colab": {}
      },
      "source": [
        "#@title Instal ngrok\n",
        "!wget https://bin.equinox.io/c/4VmDzA7iaHb/ngrok-stable-linux-amd64.zip\n",
        "!unzip ngrok-stable-linux-amd64.zip"
      ],
      "execution_count": 0,
      "outputs": []
    },
    {
      "cell_type": "code",
      "metadata": {
        "id": "AL3sVCoBDFcQ",
        "colab_type": "code",
        "outputId": "3152d4bc-3fc2-4191-bfd6-fe0ad3af6f28",
        "colab": {
          "base_uri": "https://localhost:8080/",
          "height": 659
        }
      },
      "source": [
        "#@title Run Gazebo, Gazebo web and ngrok.\n",
        "\n",
        "#Create virtual screen for gazebo and run gzserver\n",
        "from pyvirtualdisplay import Display\n",
        "display = Display(visible=0, size=(640, 480))\n",
        "display.start()\n",
        "!killall -9 gzserver gzclient gazebo ngrok npm\n",
        "import random\n",
        "#random port\n",
        "PORT_NUMBER = random.randint(12000, 15000)\n",
        "#run ngrok\n",
        "get_ipython().system_raw('./ngrok http $PORT_NUMBER & ')\n",
        "! curl -s http://localhost:4040/api/tunnels | python3 -c \\\n",
        "    \"import sys, json; print(json.load(sys.stdin)['tunnels'][0]['public_url'])\"\n",
        "#run gazebo web in background\n",
        "GAZEBO_MASTER_URI='http://127.0.0.1:11345'\n",
        "get_ipython().system_raw('source /usr/share/gazebo/setup.sh && echo $GAZEBO_MASTER_URI && cd gzweb/ && npm start -p $PORT_NUMBER &')\n",
        "#run gazebo\n",
        "!gazebo --verbose "
      ],
      "execution_count": 0,
      "outputs": [
        {
          "output_type": "stream",
          "text": [
            "gzserver: no process found\n",
            "gzclient: no process found\n",
            "gazebo: no process found\n",
            "ngrok: no process found\n",
            "npm: no process found\n",
            "http://fcc49976.ngrok.io\n",
            "Gazebo multi-robot simulator, version 9.7.0\n",
            "Copyright (C) 2012 Open Source Robotics Foundation.\n",
            "Released under the Apache 2 License.\n",
            "http://gazebosim.org\n",
            "\n",
            "\u001b[1;32m[Msg] \u001b[0m\u001b[1;32mWaiting for master.\u001b[0m\u001b[1;32m\n",
            "\u001b[0m\u001b[1;32m\u001b[0m\u001b[1;32m[Msg] \u001b[0m\u001b[1;32mConnected to gazebo master @ \u001b[0m\u001b[1;32mhttp://127.0.0.1:11345\u001b[0m\u001b[1;32m\n",
            "\u001b[0m\u001b[1;32m\u001b[0m\u001b[1;32m[Msg] \u001b[0m\u001b[1;32mPublicized address: \u001b[0m\u001b[1;32m172.28.0.2\u001b[0m\u001b[1;32m\n",
            "Gazebo multi-robot simulator, version 9.7.0\n",
            "Copyright (C) 2012 Open Source Robotics Foundation.\n",
            "Released under the Apache 2 License.\n",
            "http://gazebosim.org\n",
            "\n",
            "\u001b[1;32m[Msg] \u001b[0m\u001b[1;32mWaiting for master.\u001b[0m\u001b[1;32m\n",
            "\u001b[0m\u001b[1;32m\u001b[0m\u001b[1;32m[Msg] \u001b[0m\u001b[1;32mConnected to gazebo master @ \u001b[0m\u001b[1;32mhttp://127.0.0.1:11345\u001b[0m\u001b[1;32m\n",
            "\u001b[0m\u001b[1;32m\u001b[0m\u001b[1;32m[Msg] \u001b[0m\u001b[1;32mPublicized address: \u001b[0m\u001b[1;32m172.28.0.2\u001b[0m\u001b[1;32m\n",
            "\u001b[0m\u001b[1;32m\u001b[0m\u001b[1;33m[Wrn] [GuiIface.cc:122] \u001b[0m\u001b[1;33mQStandardPaths: XDG_RUNTIME_DIR not set, defaulting to '/tmp/runtime-root'\u001b[0m\u001b[1;33m\n",
            "\u001b[0m\u001b[1;33m\u001b[0m\u001b[0m\u001b[1;32m\u001b[0m\u001b[1;33m[Wrn] [ModelDatabase.cc:340] \u001b[0m\u001b[1;33mGetting models from[\u001b[0m\u001b[1;33mhttp://models.gazebosim.org/\u001b[0m\u001b[1;33m]. This may take a few seconds.\n",
            "\u001b[0m\u001b[1;33m[Wrn] [msgs.cc:1852] \u001b[0m\u001b[1;33mConversion of sensor type[\u001b[0m\u001b[1;33mmulticamera\u001b[0m\u001b[1;33m] not supported.\u001b[0m\u001b[1;33m\n",
            "\u001b[0m\u001b[1;33m\u001b[0m\u001b[1;33m[Wrn] [msgs.cc:1852] \u001b[0m\u001b[1;33mConversion of sensor type[\u001b[0m\u001b[1;33mdepth\u001b[0m\u001b[1;33m] not supported.\u001b[0m\u001b[1;33m\n",
            "\u001b[0m\u001b[1;33m\u001b[0m\u001b[1;33m[Wrn] [msgs.cc:1852] \u001b[0m\u001b[1;33mConversion of sensor type[\u001b[0m\u001b[1;33mmulticamera\u001b[0m\u001b[1;33m] not supported.\u001b[0m\u001b[1;33m\n",
            "\u001b[0m\u001b[1;33m\u001b[0m\u001b[1;33m[Wrn] [msgs.cc:1852] \u001b[0m\u001b[1;33mConversion of sensor type[\u001b[0m\u001b[1;33mdepth\u001b[0m\u001b[1;33m] not supported.\u001b[0m\u001b[1;33m\n",
            "\u001b[0m\u001b[1;33m\u001b[0m\u001b[1;33m[Wrn] [msgs.cc:1852] \u001b[0m\u001b[1;33mConversion of sensor type[\u001b[0m\u001b[1;33mdepth\u001b[0m\u001b[1;33m] not supported.\u001b[0m\u001b[1;33m\n",
            "\u001b[0m\u001b[1;33m\u001b[0m\u001b[1;33m[Wrn] [Publisher.cc:141] \u001b[0m\u001b[1;33mQueue limit reached for topic \u001b[0m\u001b[1;33m/gazebo/default/pose/local/info\u001b[0m\u001b[1;33m, deleting message. \u001b[0m\u001b[1;33mThis warning is printed only once.\u001b[0m\u001b[1;33m\n",
            "\u001b[0m\u001b[1;33m\u001b[0m\u001b[1;33m[Wrn] [GuiIface.cc:122] \u001b[0m\u001b[1;33mThe X11 connection broke: I/O error (code 1)\u001b[0m\u001b[1;33m\n",
            "\u001b[0m\u001b[1;33m\u001b[0mXIO:  fatal IO error 0 (Success) on X server \":1003\"\n",
            "      after 3214 requests (3214 known processed) with 0 events remaining.\n",
            "\u001b[1;33m\u001b[0m\u001b[1;36m\u001b[0m\u001b[1;31m\u001b[0m\u001b[1;32m\u001b[0m\u001b[1;33m[Wrn] [Publisher.cc:141] \u001b[0m\u001b[1;33mQueue limit reached for topic \u001b[0m\u001b[1;33m/gazebo/default/physics/contacts\u001b[0m\u001b[1;33m, deleting message. \u001b[0m\u001b[1;33mThis warning is printed only once.\u001b[0m\u001b[1;33m\n",
            "\u001b[0m\u001b[1;33m\u001b[0mXIO:  fatal IO error 22 (Invalid argument) on X server \":1003\"\n",
            "      after 23 requests (23 known processed) with 0 events remaining.\n",
            "gzserver: /usr/include/boost/thread/pthread/mutex.hpp:111: boost::mutex::~mutex(): Assertion `!res' failed.\n"
          ],
          "name": "stdout"
        }
      ]
    }
  ]
}
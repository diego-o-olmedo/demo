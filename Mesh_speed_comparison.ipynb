{
  "nbformat": 4,
  "nbformat_minor": 0,
  "metadata": {
    "kernelspec": {
      "name": "python2",
      "display_name": "Python 2"
    },
    "colab": {
      "name": "Mesh speed comparison.ipynb",
      "provenance": [],
      "include_colab_link": true
    },
    "accelerator": "GPU"
  },
  "cells": [
    {
      "cell_type": "markdown",
      "metadata": {
        "id": "view-in-github",
        "colab_type": "text"
      },
      "source": [
        "<a href=\"https://colab.research.google.com/github/diego-o-olmedo/demo/blob/master/Mesh_speed_comparison.ipynb\" target=\"_parent\"><img src=\"https://colab.research.google.com/assets/colab-badge.svg\" alt=\"Open In Colab\"/></a>"
      ]
    },
    {
      "cell_type": "code",
      "metadata": {
        "id": "3_CsvM7l2_ZB",
        "colab_type": "code",
        "colab": {}
      },
      "source": [
        "!pip install ipyvolume\n",
        "# https://github.com/maartenbreddels/ipyvolume\n",
        "# https://www.youtube.com/watch?v=hOKa8klJPyo"
      ],
      "execution_count": 0,
      "outputs": []
    },
    {
      "cell_type": "code",
      "metadata": {
        "id": "5tAcTrPk3vRF",
        "colab_type": "code",
        "colab": {}
      },
      "source": [
        ""
      ],
      "execution_count": 0,
      "outputs": []
    },
    {
      "cell_type": "code",
      "metadata": {
        "id": "sbq9ap_32E64",
        "colab_type": "code",
        "colab": {}
      },
      "source": [
        "import numpy as np\n",
        "import ipyvolume.pylab as p3\n",
        "from numpy.testing import assert_array_equal"
      ],
      "execution_count": 0,
      "outputs": []
    },
    {
      "cell_type": "code",
      "metadata": {
        "scrolled": false,
        "id": "cSHF0Zmw2E6_",
        "colab_type": "code",
        "outputId": "be6d23ee-f356-40c5-f5c6-1ce03db31836",
        "colab": {
          "base_uri": "https://localhost:8080/",
          "height": 388
        }
      },
      "source": [
        "from ipyvolume.pylab import make_triangles_lines as new_make_triangles_lines\n",
        "def old_make_triangles_lines(x,y,z,wrapx=False,wrapy=False):\n",
        "    def dim(x):\n",
        "        d = 0\n",
        "        el = x\n",
        "        while True:\n",
        "            try:\n",
        "                el = el[0]\n",
        "                d += 1\n",
        "            except Exception:\n",
        "                break\n",
        "        return d\n",
        "\n",
        "    if dim(x) == 2:\n",
        "        nx, ny = shape = x.shape\n",
        "    else:\n",
        "        nx, ny = shape = x[0].shape\n",
        "\n",
        "    def reshape(ar):\n",
        "        if dim(ar) == 3:\n",
        "            return [k.reshape(-1) for k in ar]\n",
        "        else:\n",
        "            return ar.reshape(-1)\n",
        "\n",
        "    x = reshape(x)\n",
        "    y = reshape(y)\n",
        "    z = reshape(z)\n",
        "\n",
        "    mx = nx if wrapx else nx - 1\n",
        "    my = ny if wrapy else ny - 1\n",
        "    triangles = np.zeros(((mx) * (my) * 2, 3), dtype=np.uint32)\n",
        "    lines = np.zeros(((mx) * (my) * 4, 2), dtype=np.uint32)\n",
        "    \n",
        "    \n",
        "      \n",
        " \n",
        "    def index_from2d(i, j):\n",
        "        xi = (i % nx)\n",
        "        yi = (j % ny)\n",
        "        return ny * xi + yi\n",
        "        \"\"\"\n",
        "        ^ ydir\n",
        "        |\n",
        "        2 3\n",
        "        0 1  ---> x dir\n",
        "        \"\"\"\n",
        " \n",
        "    for i in range(mx):\n",
        "        for j in range(my):\n",
        "            p0 = index_from2d(i, j)\n",
        "            p1 = index_from2d(i + 1, j)\n",
        "            p2 = index_from2d(i, j + 1)\n",
        "            p3 = index_from2d(i + 1, j + 1)\n",
        "            triangle_index = (i * my) + j\n",
        "            triangles[triangle_index * 2 + 0, :] = [p0, p1, p3]\n",
        "            triangles[triangle_index * 2 + 1, :] = [p0, p3, p2]\n",
        "            lines[triangle_index * 4 + 0, :] = [p0, p1]\n",
        "            lines[triangle_index * 4 + 1, :] = [p0, p2]\n",
        "            lines[triangle_index * 4 + 2, :] = [p2, p3]\n",
        "            lines[triangle_index * 4 + 3, :] = [p1, p3]\n",
        "    \n",
        "    return triangles, lines\n",
        "            "
      ],
      "execution_count": 0,
      "outputs": [
        {
          "output_type": "error",
          "ename": "ImportError",
          "evalue": "ignored",
          "traceback": [
            "\u001b[0;31m\u001b[0m",
            "\u001b[0;31mImportError\u001b[0mTraceback (most recent call last)",
            "\u001b[0;32m<ipython-input-3-31d63167f9c2>\u001b[0m in \u001b[0;36m<module>\u001b[0;34m()\u001b[0m\n\u001b[0;32m----> 1\u001b[0;31m \u001b[0;32mfrom\u001b[0m \u001b[0mipyvolume\u001b[0m\u001b[0;34m.\u001b[0m\u001b[0mpylab\u001b[0m \u001b[0;32mimport\u001b[0m \u001b[0mmake_triangles_lines\u001b[0m \u001b[0;32mas\u001b[0m \u001b[0mnew_make_triangles_lines\u001b[0m\u001b[0;34m\u001b[0m\u001b[0m\n\u001b[0m\u001b[1;32m      2\u001b[0m \u001b[0;32mdef\u001b[0m \u001b[0mold_make_triangles_lines\u001b[0m\u001b[0;34m(\u001b[0m\u001b[0mx\u001b[0m\u001b[0;34m,\u001b[0m\u001b[0my\u001b[0m\u001b[0;34m,\u001b[0m\u001b[0mz\u001b[0m\u001b[0;34m,\u001b[0m\u001b[0mwrapx\u001b[0m\u001b[0;34m=\u001b[0m\u001b[0mFalse\u001b[0m\u001b[0;34m,\u001b[0m\u001b[0mwrapy\u001b[0m\u001b[0;34m=\u001b[0m\u001b[0mFalse\u001b[0m\u001b[0;34m)\u001b[0m\u001b[0;34m:\u001b[0m\u001b[0;34m\u001b[0m\u001b[0m\n\u001b[1;32m      3\u001b[0m     \u001b[0;32mdef\u001b[0m \u001b[0mdim\u001b[0m\u001b[0;34m(\u001b[0m\u001b[0mx\u001b[0m\u001b[0;34m)\u001b[0m\u001b[0;34m:\u001b[0m\u001b[0;34m\u001b[0m\u001b[0m\n\u001b[1;32m      4\u001b[0m         \u001b[0md\u001b[0m \u001b[0;34m=\u001b[0m \u001b[0;36m0\u001b[0m\u001b[0;34m\u001b[0m\u001b[0m\n\u001b[1;32m      5\u001b[0m         \u001b[0mel\u001b[0m \u001b[0;34m=\u001b[0m \u001b[0mx\u001b[0m\u001b[0;34m\u001b[0m\u001b[0m\n",
            "\u001b[0;31mImportError\u001b[0m: cannot import name make_triangles_lines",
            "",
            "\u001b[0;31m---------------------------------------------------------------------------\u001b[0;32m\nNOTE: If your import is failing due to a missing package, you can\nmanually install dependencies using either !pip or !apt.\n\nTo view examples of installing some common dependencies, click the\n\"Open Examples\" button below.\n\u001b[0;31m---------------------------------------------------------------------------\u001b[0m\n"
          ]
        }
      ]
    },
    {
      "cell_type": "code",
      "metadata": {
        "id": "NVj68iox2E7D",
        "colab_type": "code",
        "colab": {}
      },
      "source": [
        "\n",
        "assert_array_equal(tri_new,tri_old)\n",
        "assert_array_equal(line_new,line_old)"
      ],
      "execution_count": 0,
      "outputs": []
    },
    {
      "cell_type": "code",
      "metadata": {
        "id": "KU8NUXwI2E7F",
        "colab_type": "code",
        "outputId": "6a67c90a-975d-4c1f-d809-dc2228630cf8",
        "colab": {}
      },
      "source": [
        "# Small data set.\n",
        "nx = 100\n",
        "ny = 50\n",
        "X = np.linspace(-5, 5, nx)\n",
        "Y = np.linspace(-5, 5, ny)\n",
        "X, Y = np.meshgrid(X, Y, indexing='xy')\n",
        "R = np.sqrt(X**2 + Y**2)\n",
        "Z = np.sin(R)\n",
        "\n",
        "tri_new, line_new = new_make_triangles_lines(X,Y,Z)\n",
        "tri_old, line_old = old_make_triangles_lines(X,Y,Z)\n",
        "\n",
        "assert_array_equal(tri_new,tri_old)\n",
        "assert_array_equal(line_new,line_old)\n",
        "\n",
        "\n",
        "%timeit new_make_triangles_lines(X,Y,Z)\n",
        "%timeit old_make_triangles_lines(X,Y,Z)\n"
      ],
      "execution_count": 0,
      "outputs": [
        {
          "output_type": "stream",
          "text": [
            "330 µs ± 574 ns per loop (mean ± std. dev. of 7 runs, 1000 loops each)\n",
            "44.9 ms ± 135 µs per loop (mean ± std. dev. of 7 runs, 10 loops each)\n"
          ],
          "name": "stdout"
        }
      ]
    },
    {
      "cell_type": "code",
      "metadata": {
        "id": "Nn0gr6UN2E7J",
        "colab_type": "code",
        "outputId": "8f8fac23-1879-4d21-f599-c500505703f1",
        "colab": {}
      },
      "source": [
        "# Larger data set.\n",
        "nx = 400\n",
        "ny = 425\n",
        "X = np.linspace(-5, 5, nx)\n",
        "Y = np.linspace(-5, 5, ny)\n",
        "X, Y = np.meshgrid(X, Y, indexing='xy')\n",
        "R = np.sqrt(X**2 + Y**2)\n",
        "Z = np.sin(R)\n",
        "\n",
        "tri_new, line_new = new_make_triangles_lines(X,Y,Z)\n",
        "tri_old, line_old = old_make_triangles_lines(X,Y,Z)\n",
        "\n",
        "assert_array_equal(tri_new,tri_old)\n",
        "assert_array_equal(line_new,line_old)\n",
        "\n",
        "%timeit tri_new, line_new = new_make_triangles_lines(X,Y,Z)\n",
        "%timeit tri_old, line_old = old_make_triangles_lines(X,Y,Z)"
      ],
      "execution_count": 0,
      "outputs": [
        {
          "output_type": "stream",
          "text": [
            "12.4 ms ± 80.6 µs per loop (mean ± std. dev. of 7 runs, 100 loops each)\n",
            "1.56 s ± 2.9 ms per loop (mean ± std. dev. of 7 runs, 1 loop each)\n"
          ],
          "name": "stdout"
        }
      ]
    },
    {
      "cell_type": "code",
      "metadata": {
        "id": "r-pN_YdQ2E7N",
        "colab_type": "code",
        "colab": {}
      },
      "source": [
        ""
      ],
      "execution_count": 0,
      "outputs": []
    }
  ]
}
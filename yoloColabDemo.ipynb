{
  "nbformat": 4,
  "nbformat_minor": 0,
  "metadata": {
    "colab": {
      "name": "yoloColabDemo.ipynb",
      "provenance": [],
      "collapsed_sections": [],
      "include_colab_link": true
    },
    "kernelspec": {
      "display_name": "Python 3",
      "language": "python",
      "name": "python3"
    },
    "accelerator": "GPU"
  },
  "cells": [
    {
      "cell_type": "markdown",
      "metadata": {
        "id": "view-in-github",
        "colab_type": "text"
      },
      "source": [
        "<a href=\"https://colab.research.google.com/github/diego-o-olmedo/demo/blob/master/yoloColabDemo.ipynb\" target=\"_parent\"><img src=\"https://colab.research.google.com/assets/colab-badge.svg\" alt=\"Open In Colab\"/></a>"
      ]
    },
    {
      "cell_type": "markdown",
      "metadata": {
        "id": "B4GYnpnQ_TED",
        "colab_type": "text"
      },
      "source": [
        "# Run YOLO V3 on Colab for images/videos\n",
        "\n",
        "Hello there,\n",
        "Today, we will be discussing how can we use the Darknet project on Google Colab platform. For those who are not familiar with these terms:\n",
        "\n",
        "- The Darknet project is an open-source written in C, which is a framework to develop deep neural networks.\n",
        "- Yolo V3 is an object detection algorithm. It is one of the state of the art solution when **accuracy/processing power needed** metric is considered.\n",
        "- Google Cola is a cloud-based data science workspace similar to the jupyter notebook. Each Collabrotary session is equipped with a virtual machine running 13 GB of ram and either a CPU, GPU, or TPU processor. In most case, all the required packages are already installed on these machines and you can quite easily start development using Google Collaboratory. It saves us from installing process and it provides us **easy to accessible GPU's** which is also **free** under some constraints.\n",
        "\n",
        "Have a look Ted Talk by Joseph Redmon the developer of the darknet project. The talk is about Darknet and YOLO projects which titled as “How computers learn to recognize objects instantly” . Darknet project aims to create a new neural network framework which is completely focused on simplicity and performance. The thing which I like about is its clarity and performance. All the code is written in C, to define a deep learning network you should only create a config file which defines the layers. By this way, it does not lose its performance capabilities also it provides us easy to use interface for development with this library.\n",
        "\n",
        "Since I love both YOLO project and Google Colab, I decided to create a tutorial to use them together. I create a GitHub repository and a Collaboratory notebook for this purpose\n",
        "\n",
        "- [Colab Notebook](https://colab.research.google.com/drive/1DcXQ_pLtLVvQAwILZR-kF0ZJwhkp11Jl)\n",
        "- [mozanunal/yoloOnGoogleColab](https://github.com/mozanunal/yoloOnGoogleColab)\n",
        "\n",
        "{% youtube Cgxsv1riJhI%}\n",
        "\n",
        "**Please check**\n",
        "- [YOLO website](https://pjreddie.com/darknet/yolo/)\n",
        "- [Darknet website](https://pjreddie.com/darknet/)\n",
        "- [YOLOV3 Paper](https://arxiv.org/abs/1804.02767)\n",
        "\n"
      ]
    },
    {
      "cell_type": "markdown",
      "metadata": {
        "id": "cimTy_ZyqcD9",
        "colab_type": "text"
      },
      "source": [
        "## Install\n",
        "Go to the directory, clear and install everthing\n",
        "\n",
        "\n",
        "*   Clone the project\n",
        "*   Change make file configurations and make OPENCV and GPU enable\n",
        "*   Install opencv library\n"
      ]
    },
    {
      "cell_type": "code",
      "metadata": {
        "id": "HBGOryKgQvDy",
        "colab_type": "code",
        "colab": {}
      },
      "source": [
        "\n",
        "import cv2, os\n",
        "import matplotlib.pyplot as plt\n",
        "%matplotlib inline\n",
        "  "
      ],
      "execution_count": 0,
      "outputs": []
    },
    {
      "cell_type": "code",
      "metadata": {
        "colab_type": "code",
        "id": "1faGiPFGrA3O",
        "colab": {}
      },
      "source": [
        "\n",
        "!ls\n",
        "!cd /content\n",
        "!rm -fr darknet\n",
        "!git clone https://github.com/AlexeyAB/darknet/\n",
        "% cd darknet\n",
        "!sed -i 's/OPENCV=0/OPENCV=1/g' Makefile\n",
        "!sed -i 's/GPU=0/GPU=1/g' Makefile\n",
        "!sed -i 's/CUDNN=0/CUDNN=1/g' Makefile\n",
        "!apt update\n",
        "!apt-get install libopencv-dev"
      ],
      "execution_count": 0,
      "outputs": []
    },
    {
      "cell_type": "markdown",
      "metadata": {
        "id": "86slFHWaq7Vk",
        "colab_type": "text"
      },
      "source": [
        "## `Compile and Configure`\n",
        "\n",
        "\n",
        "* Compile YOLO\n",
        "* Download YOLO weights\n",
        "\n"
      ]
    },
    {
      "cell_type": "code",
      "metadata": {
        "id": "SsilWqOnM9Rt",
        "colab_type": "code",
        "colab": {}
      },
      "source": [
        "!make &> compile.log\n"
      ],
      "execution_count": 0,
      "outputs": []
    },
    {
      "cell_type": "code",
      "metadata": {
        "colab_type": "code",
        "id": "vJ4Bu_sc0cc1",
        "colab": {}
      },
      "source": [
        "!wget https://pjreddie.com/media/files/yolov3.weights"
      ],
      "execution_count": 0,
      "outputs": []
    },
    {
      "cell_type": "markdown",
      "metadata": {
        "id": "J89LB-FvrxmI",
        "colab_type": "text"
      },
      "source": [
        "## Test An Image"
      ]
    },
    {
      "cell_type": "code",
      "metadata": {
        "id": "132eS1AHrwSr",
        "colab_type": "code",
        "colab": {}
      },
      "source": [
        "def predictImage(imageDir):\n",
        "  os.system(\"cd /content/darknet && ./darknet detect cfg/yolov3.cfg yolov3.weights {}\".format(imageDir))\n",
        "  image = cv2.imread(\"/content/darknet/predictions.jpg\")\n",
        "  height, width = image.shape[:2]\n",
        "  resized_image = cv2.resize(image,(3*width, 3*height), interpolation = cv2.INTER_CUBIC)\n",
        "\n",
        "  fig = plt.gcf()\n",
        "  fig.set_size_inches(18, 10)\n",
        "  plt.axis(\"off\")\n",
        "  #plt.rcParams['figure.figsize'] = [10, 5]\n",
        "  plt.imshow(cv2.cvtColor(resized_image, cv2.COLOR_BGR2RGB))\n",
        "  plt.show()\n"
      ],
      "execution_count": 0,
      "outputs": []
    },
    {
      "cell_type": "code",
      "metadata": {
        "id": "fJjR-rbRJeYb",
        "colab_type": "code",
        "colab": {}
      },
      "source": [
        "!wget https://github.com/mozanunal/yoloOnGoogleColab/raw/master/test/test.jpg\n",
        "!ls"
      ],
      "execution_count": 0,
      "outputs": []
    },
    {
      "cell_type": "code",
      "metadata": {
        "colab_type": "code",
        "id": "I2-O4B7e1UOC",
        "colab": {}
      },
      "source": [
        "predictImage(\"test.jpg\")\n",
        "\n"
      ],
      "execution_count": 0,
      "outputs": []
    },
    {
      "cell_type": "markdown",
      "metadata": {
        "id": "XyokVH5mvQNv",
        "colab_type": "text"
      },
      "source": [
        "## Test with Video"
      ]
    },
    {
      "cell_type": "code",
      "metadata": {
        "colab_type": "code",
        "id": "yrn7J_5G16B7",
        "colab": {}
      },
      "source": [
        "def predictVideo(videoDir):\n",
        "  os.system(\"\"\" cd /content/darknet && ./darknet detector demo cfg/coco.data cfg/yolov3.cfg yolov3.weights \\\n",
        "  -dont_show {} -i 0 -out_filename res.avi\n",
        "  \"\"\".format(videoDir))\n"
      ],
      "execution_count": 0,
      "outputs": []
    },
    {
      "cell_type": "code",
      "metadata": {
        "id": "BDvZob-rx89Q",
        "colab_type": "code",
        "colab": {}
      },
      "source": [
        "!wget https://github.com/mozanunal/yoloOnGoogleColab/raw/master/test/test.avi\n",
        "!ls"
      ],
      "execution_count": 0,
      "outputs": []
    },
    {
      "cell_type": "code",
      "metadata": {
        "id": "e_GyC7c3amYb",
        "colab_type": "code",
        "colab": {}
      },
      "source": [
        "predictVideo(\"test.avi\")\n"
      ],
      "execution_count": 0,
      "outputs": []
    },
    {
      "cell_type": "code",
      "metadata": {
        "id": "TxK2Y2vC0l6X",
        "colab_type": "code",
        "colab": {}
      },
      "source": [
        "!du -h res.avi"
      ],
      "execution_count": 0,
      "outputs": []
    },
    {
      "cell_type": "code",
      "metadata": {
        "id": "Tu5glfpwwRlo",
        "colab_type": "code",
        "colab": {}
      },
      "source": [
        "from google.colab import files\n",
        "\n",
        "files.download('/content/darknet/res.avi')\n",
        "\n"
      ],
      "execution_count": 0,
      "outputs": []
    },
    {
      "cell_type": "code",
      "metadata": {
        "id": "Iq3hnjh4Hais",
        "colab_type": "code",
        "colab": {}
      },
      "source": [
        ""
      ],
      "execution_count": 0,
      "outputs": []
    }
  ]
}